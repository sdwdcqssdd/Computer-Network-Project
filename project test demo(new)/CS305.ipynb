{
 "cells": [
  {
   "cell_type": "raw",
   "metadata": {
    "collapsed": false
   },
   "source": [
    "In the project, the majority of tasks will undergo script testing, with only a few being reviewed by the TA. Be aware that this testing material is not final and cannot cover all testing scenarios. If you are caught cheating during testing, the whole group will receive a score of 0 for the project."
   ]
  },
  {
   "cell_type": "raw",
   "metadata": {
    "collapsed": false
   },
   "source": [
    "The script checks using the requests library in Python. Before testing, ensure that the server has three users with the usernames \"client1\", \"client2\", and \"client3\", and the passwords \"123\". In the upcoming tests, if the Authorization field is needed, use \"client1\" and \"123\" as both the username and password."
   ]
  },
  {
   "cell_type": "code",
   "execution_count": 17,
   "metadata": {
    "collapsed": false,
    "ExecuteTime": {
     "end_time": "2023-12-31T21:11:57.066556Z",
     "start_time": "2023-12-31T21:11:57.065049500Z"
    }
   },
   "outputs": [],
   "source": [
    "import requests\n",
    "import time"
   ]
  },
  {
   "cell_type": "raw",
   "metadata": {
    "collapsed": false
   },
   "source": [
    "The initial check is the head request, a fundamental job of the server is to respond to the request. Use the \"headers\" parameter for logging into the server. Disregard this parameter if the server lacks the login feature."
   ]
  },
  {
   "cell_type": "code",
   "execution_count": 18,
   "metadata": {
    "collapsed": false,
    "ExecuteTime": {
     "end_time": "2023-12-31T21:12:02.583882200Z",
     "start_time": "2023-12-31T21:12:00.529415600Z"
    }
   },
   "outputs": [
    {
     "name": "stdout",
     "output_type": "stream",
     "text": [
      "test HEAD: <Response [200]> 200\n"
     ]
    }
   ],
   "source": [
    "headers={\"Authorization\": \"Basic Y2xpZW50MToxMjM=\"}\n",
    "q=requests.head('http://localhost:8080/',headers=headers)\n",
    "print(\"test HEAD:\", q, \"200\")\n"
   ]
  },
  {
   "cell_type": "raw",
   "metadata": {
    "collapsed": false
   },
   "source": [
    "Test get request"
   ]
  },
  {
   "cell_type": "code",
   "execution_count": 19,
   "metadata": {
    "collapsed": false,
    "ExecuteTime": {
     "end_time": "2023-12-31T21:12:10.795929400Z",
     "start_time": "2023-12-31T21:12:08.749692500Z"
    }
   },
   "outputs": [
    {
     "name": "stdout",
     "output_type": "stream",
     "text": [
      "Test GET: <Response [200]> 200\n"
     ]
    }
   ],
   "source": [
    "headers={\"Authorization\": \"Basic Y2xpZW50MToxMjM=\"}\n",
    "q=requests.get('http://localhost:8080/',headers=headers)\n",
    "print(\"Test GET:\", q, \"200\")"
   ]
  },
  {
   "cell_type": "raw",
   "metadata": {
    "collapsed": false
   },
   "source": [
    "Test post request"
   ]
  },
  {
   "cell_type": "code",
   "execution_count": 20,
   "metadata": {
    "collapsed": false,
    "ExecuteTime": {
     "end_time": "2023-12-31T21:12:16.143886Z",
     "start_time": "2023-12-31T21:12:14.095285100Z"
    }
   },
   "outputs": [
    {
     "name": "stdout",
     "output_type": "stream",
     "text": [
      "Test POST: <Response [405]> 405\n"
     ]
    }
   ],
   "source": [
    "headers={\"Authorization\": \"Basic Y2xpZW50MToxMjM=\"}\n",
    "q=requests.post('http://localhost:8080/',headers=headers)\n",
    "print(\"Test POST:\", q, \"405\")"
   ]
  },
  {
   "cell_type": "raw",
   "metadata": {
    "collapsed": false
   },
   "source": [
    "Next, we will provide test examples based on the chapters in the project documentation. Each test is accompanied by a output. We do not check exact string matches for your output, as long as you complete the corresponding task.\n",
    "\n"
   ]
  },
  {
   "cell_type": "code",
   "execution_count": 31,
   "metadata": {
    "collapsed": false,
    "ExecuteTime": {
     "end_time": "2023-12-31T21:30:47.457800100Z",
     "start_time": "2023-12-31T21:30:47.430771100Z"
    }
   },
   "outputs": [
    {
     "name": "stdout",
     "output_type": "stream",
     "text": [
      "Test persistent: <Response [200]> 200\n",
      "Test persistent: <Response [200]> 200\n",
      "Test persistent with error: <Response [404]> 404\n",
      "Test persistent with error: <Response [400]> 400\n",
      "close connection: <Response [200]> 200\n"
     ]
    }
   ],
   "source": [
    "#1.1\n",
    "headers={\"Authorization\": \"Basic Y2xpZW50MToxMjM=\"}\n",
    "session = requests.Session()\n",
    "session.headers.update({'Connection': 'keep-alive'})\n",
    "\n",
    "response1 = session.get('http://127.0.0.1:8080',headers=headers)\n",
    "response2 = session.get('http://127.0.0.1:8080',headers=headers)\n",
    "\n",
    "print(\"Test persistent:\", response1, \"200\")\n",
    "print(\"Test persistent:\", response2, \"200\")\n",
    "\n",
    "response4 = session.get('http://127.0.0.1:8080/wrong/',headers=headers)\n",
    "print(\"Test persistent with error:\", response4, \"404\")\n",
    "\n",
    "response5 = session.get('http://127.0.0.1:8080/wrong/?HTTP=1',headers=headers)\n",
    "print(\"Test persistent with error:\", response5, \"400\")\n",
    "\n",
    "session.headers.update({'Connection': 'close'})\n",
    "response3 = session.get('http://127.0.0.1:8080',headers=headers)\n",
    "\n",
    "print(\"close connection:\", response3, \"200\")\n"
   ]
  },
  {
   "cell_type": "code",
   "execution_count": 24,
   "metadata": {
    "collapsed": false,
    "ExecuteTime": {
     "end_time": "2023-12-31T21:25:30.693915500Z",
     "start_time": "2023-12-31T21:25:30.653162300Z"
    }
   },
   "outputs": [
    {
     "name": "stdout",
     "output_type": "stream",
     "text": [
      "Test multi-thread: <Response [200]> 200\n",
      "Test multi-thread: <Response [200]> 200\n",
      "Test multi-thread: <Response [404]> 200\n",
      "Test multi-thread with error: <Response [404]> 404\n",
      "Test multi-thread: <Response [200]> 200\n"
     ]
    }
   ],
   "source": [
    "#1.2\n",
    "#1.1\n",
    "headers={\"Authorization\": \"Basic Y2xpZW50MToxMjM=\"}\n",
    "session1 = requests.Session()\n",
    "session1.headers.update({'Connection': 'keep-alive'})\n",
    "session2 = requests.Session()\n",
    "session2.headers.update({'Connection': 'keep-alive'})\n",
    "\n",
    "response1 = session1.get('http://127.0.0.1:8080',headers=headers)\n",
    "response2 = session2.get('http://127.0.0.1:8080',headers=headers)\n",
    "\n",
    "\n",
    "print(\"Test multi-thread:\", response1, \"200\")\n",
    "print(\"Test multi-thread:\", response2, \"200\")\n",
    "\n",
    "session2.headers.update({'Connection': 'close'})\n",
    "response3 = session1.get('http://127.0.0.1:8080/client2/',headers=headers)\n",
    "response4 = session2.get('http://127.0.0.1:8080/wrong/',headers=headers)\n",
    "\n",
    "print(\"Test multi-thread:\", response3, \"200\")\n",
    "print(\"Test multi-thread with error:\", response4, \"404\")\n",
    "\n",
    "session1.headers.update({'Connection': 'close'})\n",
    "response5 = session1.get('http://127.0.0.1:8080',headers=headers)\n",
    "print(\"Test multi-thread:\", response5, \"200\")\n"
   ]
  },
  {
   "cell_type": "code",
   "execution_count": 32,
   "metadata": {
    "collapsed": false,
    "ExecuteTime": {
     "end_time": "2023-12-31T21:36:46.833297Z",
     "start_time": "2023-12-31T21:36:38.681162900Z"
    }
   },
   "outputs": [
    {
     "name": "stdout",
     "output_type": "stream",
     "text": [
      "HEAD with auth: <Response [200]> 200\n",
      "HEAD without auth: <Response [401]> 401\n",
      "GET without auth: <Response [401]> 401\n",
      "POST without auth: <Response [401]> 401\n"
     ]
    }
   ],
   "source": [
    "#1.3\n",
    "headers1={\"Authorization\": \"Basic Y2xpZW50MToxMjM=\"}\n",
    "headers2={}\n",
    "q=requests.head('http://localhost:8080/',headers=headers1)\n",
    "print(\"HEAD with auth:\", q, \"200\")\n",
    "q=requests.head('http://localhost:8080/',headers=headers2)\n",
    "print(\"HEAD without auth:\", q, \"401\")\n",
    "\n",
    "q=requests.get('http://localhost:8080/',headers=headers2)\n",
    "print(\"GET without auth:\", q, \"401\")\n",
    "\n",
    "files1 = {\"firstFile\": open('tmp/a.txt', \"rb\")}\n",
    "data={}\n",
    "q=requests.post('http://localhost:8080/upload?path=client1',data=data, headers=headers2, files=files1)\n",
    "print(\"POST without auth:\", q, \"401\")"
   ]
  },
  {
   "cell_type": "code",
   "execution_count": 38,
   "metadata": {
    "collapsed": false,
    "ExecuteTime": {
     "end_time": "2023-12-31T22:20:27.488765700Z",
     "start_time": "2023-12-31T22:20:27.391129900Z"
    }
   },
   "outputs": [
    {
     "name": "stdout",
     "output_type": "stream",
     "text": [
      "url1: <Response [200]> 200\n",
      "<!DOCTYPE HTML PUBLIC \"-//W3C//DTD HTML 4.01//EN\" \"http://www.w3.org/TR/html4/strict.dtd\">\n",
      "<html>\n",
      "<meta http-equiv=\"Content-Type\" content=\"text/html; charset=utf-8\">\n",
      "<title>Directory listing for ./data/</title>\n",
      "</head>\n",
      "<body>\n",
      "<h1>Directory listing for ./data/</h1>\n",
      "<hr>\n",
      "<ul>\n",
      "<li><a href=\"a.txt\">a.txt</a></li>\n",
      "<li><a href=\"client1/\">client1/</a></li>\n",
      "<li><a href=\"client2/\">client2/</a></li>\n",
      "</ul>\n",
      "<hr>\n",
      "</body>\n",
      "</html>\n",
      "\n",
      "url2:  <Response [200]> 200\n",
      "<!DOCTYPE HTML PUBLIC \"-//W3C//DTD HTML 4.01//EN\" \"http://www.w3.org/TR/html4/strict.dtd\">\n",
      "<html>\n",
      "<meta http-equiv=\"Content-Type\" content=\"text/html; charset=utf-8\">\n",
      "<title>Directory listing for ./data/</title>\n",
      "</head>\n",
      "<body>\n",
      "<h1>Directory listing for ./data/</h1>\n",
      "<hr>\n",
      "<ul>\n",
      "<li><a href=\"a.txt\">a.txt</a></li>\n",
      "<li><a href=\"client1/\">client1/</a></li>\n",
      "<li><a href=\"client2/\">client2/</a></li>\n",
      "</ul>\n",
      "<hr>\n",
      "</body>\n",
      "</html>\n",
      "\n",
      "url3:  <Response [200]> 200\n",
      "[\"a.txt\", \"client1\", \"client2\"]\n",
      "url4:  <Response [200]> 200\n",
      "url5:  <Response [200]> 200\n",
      "url6:  <Response [200]> 200\n",
      "url7:  <Response [400]> 400\n",
      "<!DOCTYPE HTML PUBLIC \"-//W3C//DTD HTML 4.01//EN\" \"http://www.w3.org/TR/html4/strict.dtd\">\n",
      "<html>\n",
      "<meta http-equiv=\"Content-Type\" content=\"text/html; charset=utf-8\">\n",
      "<title>Error response</title>\n",
      "</head>\n",
      "<body>\n",
      "<h1>Error response</h1>\n",
      "<p>Error code: 400</p>\n",
      "<p>Message: Bad request.</p>\n",
      "<p>Error code explanation: Request format is not invalid.</p>\n",
      "</body>\n",
      "</html>\n",
      "\n",
      "url8:  <Response [404]> 404\n",
      "<!DOCTYPE HTML PUBLIC \"-//W3C//DTD HTML 4.01//EN\" \"http://www.w3.org/TR/html4/strict.dtd\">\n",
      "<html>\n",
      "<meta http-equiv=\"Content-Type\" content=\"text/html; charset=utf-8\">\n",
      "<title>Error response</title>\n",
      "</head>\n",
      "<body>\n",
      "<h1>Error response</h1>\n",
      "<p>Error code: 404</p>\n",
      "<p>Message: File not found.</p>\n",
      "<p>Error code explanation: HTTPStatus.NOT_FOUND - Nothing matches the given URL.</p>\n",
      "</body>\n",
      "</html>\n",
      "\n",
      "url9:  <Response [400]> 400\n",
      "<!DOCTYPE HTML PUBLIC \"-//W3C//DTD HTML 4.01//EN\" \"http://www.w3.org/TR/html4/strict.dtd\">\n",
      "<html>\n",
      "<meta http-equiv=\"Content-Type\" content=\"text/html; charset=utf-8\">\n",
      "<title>Error response</title>\n",
      "</head>\n",
      "<body>\n",
      "<h1>Error response</h1>\n",
      "<p>Error code: 400</p>\n",
      "<p>Message: Bad request.</p>\n",
      "<p>Error code explanation: Request format is not invalid.</p>\n",
      "</body>\n",
      "</html>\n",
      "\n",
      "urla:  <Response [404]> 403\n",
      "<!DOCTYPE HTML PUBLIC \"-//W3C//DTD HTML 4.01//EN\" \"http://www.w3.org/TR/html4/strict.dtd\">\n",
      "<html>\n",
      "<meta http-equiv=\"Content-Type\" content=\"text/html; charset=utf-8\">\n",
      "<title>Error response</title>\n",
      "</head>\n",
      "<body>\n",
      "<h1>Error response</h1>\n",
      "<p>Error code: 404</p>\n",
      "<p>Message: File not found.</p>\n",
      "<p>Error code explanation: HTTPStatus.NOT_FOUND - Nothing matches the given URL.</p>\n",
      "</body>\n",
      "</html>\n",
      "\n",
      "urlb:  <Response [404]> 405\n",
      "<!DOCTYPE HTML PUBLIC \"-//W3C//DTD HTML 4.01//EN\" \"http://www.w3.org/TR/html4/strict.dtd\">\n",
      "<html>\n",
      "<meta http-equiv=\"Content-Type\" content=\"text/html; charset=utf-8\">\n",
      "<title>Error response</title>\n",
      "</head>\n",
      "<body>\n",
      "<h1>Error response</h1>\n",
      "<p>Error code: 404</p>\n",
      "<p>Message: File not found.</p>\n",
      "<p>Error code explanation: HTTPStatus.NOT_FOUND - Nothing matches the given URL.</p>\n",
      "</body>\n",
      "</html>\n",
      "\n",
      "urlc:  <Response [404]> 400\n",
      "<!DOCTYPE HTML PUBLIC \"-//W3C//DTD HTML 4.01//EN\" \"http://www.w3.org/TR/html4/strict.dtd\">\n",
      "<html>\n",
      "<meta http-equiv=\"Content-Type\" content=\"text/html; charset=utf-8\">\n",
      "<title>Error response</title>\n",
      "</head>\n",
      "<body>\n",
      "<h1>Error response</h1>\n",
      "<p>Error code: 404</p>\n",
      "<p>Message: File not found.</p>\n",
      "<p>Error code explanation: HTTPStatus.NOT_FOUND - Nothing matches the given URL.</p>\n",
      "</body>\n",
      "</html>\n",
      "\n",
      "urlx: <Response [401]> 401\n"
     ]
    }
   ],
   "source": [
    "#2\n",
    "url1 = 'http://127.0.0.1:8080/'\n",
    "url2 = 'http://127.0.0.1:8080/?SUSTech-HTTP=0'\n",
    "url3 = 'http://127.0.0.1:8080/?SUSTech-HTTP=1'\n",
    "\n",
    "url4 = 'http://127.0.0.1:8080/client1/Hell.png?SUSTech-HTTP=1'\n",
    "url5 = 'http://127.0.0.1:8080/client1/Hell.png?SUSTech-HTTP=0'\n",
    "url6 = 'http://127.0.0.1:8080/client1/Hell.png'\n",
    "\n",
    "url7 = 'http://127.0.0.1:8080/?SUSTech=1'\n",
    "\n",
    "url8 = 'http://127.0.0.1:8080/client1/wtf.txt'\n",
    "\n",
    "url9 = 'http://127.0.0.1:8080/?path=HTTP1/'\n",
    "urla = 'http://127.0.0.1:8080/upload?path=HTTP1/'\n",
    "urlb = 'http://127.0.0.1:8080/upload?path=client1/'\n",
    "urlc = 'http://127.0.0.1:8080/client1/upload?path=client1/'\n",
    "\n",
    "headers={\"Authorization\": \"Basic Y2xpZW50MToxMjM=\"}\n",
    "no_auth = {}\n",
    "\n",
    "r=requests.get(url=url1, headers=headers)\n",
    "print(\"url1:\", r, \"200\")\n",
    "print(r.content.decode())\n",
    "\n",
    "r=requests.get(url=url2, headers=headers)\n",
    "print(\"url2: \", r, \"200\")\n",
    "print(r.content.decode())\n",
    "\n",
    "r=requests.get(url=url3, headers=headers)\n",
    "print(\"url3: \", r, \"200\")\n",
    "print(r.content.decode())\n",
    "\n",
    "r=requests.get(url=url4, headers=headers)\n",
    "print(\"url4: \", r, \"200\")\n",
    "# print(r.content.decode())\n",
    "\n",
    "r=requests.get(url=url5, headers=headers)\n",
    "print(\"url5: \", r, \"200\")\n",
    "# print(r.content.decode())\n",
    "\n",
    "r=requests.get(url=url6, headers=headers)\n",
    "print(\"url6: \", r, \"200\")\n",
    "# print(r.content.decode())\n",
    "\n",
    "r=requests.get(url=url7, headers=headers)\n",
    "print(\"url7: \", r, \"400\")\n",
    "print(r.content.decode())\n",
    "\n",
    "r=requests.get(url=url8, headers=headers)\n",
    "print(\"url8: \", r, \"404\")\n",
    "print(r.content.decode())\n",
    "\n",
    "r=requests.get(url=url9, headers=headers)\n",
    "print(\"url9: \", r, \"400\")\n",
    "print(r.content.decode())\n",
    "\n",
    "r=requests.get(url=urla, headers=headers)\n",
    "print(\"urla: \", r, \"403\")\n",
    "print(r.content.decode())\n",
    "\n",
    "r=requests.get(url=urlb, headers=headers)\n",
    "print(\"urlb: \", r, \"405\")\n",
    "print(r.content.decode())\n",
    "\n",
    "r=requests.get(url=urlc, headers=headers)\n",
    "print(\"urlc: \", r, \"400\")\n",
    "print(r.content.decode())\n",
    "\n",
    "r=requests.get(url=url3, headers=no_auth)\n",
    "print(\"urlx:\", r, \"401\")\n",
    "print(r.content.decode())\n",
    "\n",
    "\n"
   ]
  },
  {
   "cell_type": "code",
   "execution_count": 36,
   "metadata": {
    "collapsed": false,
    "ExecuteTime": {
     "end_time": "2023-12-31T22:19:11.967074700Z",
     "start_time": "2023-12-31T22:19:11.929061700Z"
    }
   },
   "outputs": [
    {
     "name": "stdout",
     "output_type": "stream",
     "text": [
      "<!DOCTYPE HTML PUBLIC \"-//W3C//DTD HTML 4.01//EN\" \"http://www.w3.org/TR/html4/strict.dtd\">\n",
      "<html>\n",
      "<meta http-equiv=\"Content-Type\" content=\"text/html; charset=utf-8\">\n",
      "<title>Directory listing for ./data/</title>\n",
      "</head>\n",
      "<body>\n",
      "<h1>Directory listing for ./data/</h1>\n",
      "<hr>\n",
      "<ul>\n",
      "<li><a href=\"a.txt\">a.txt</a></li>\n",
      "<li><a href=\"client1/\">client1/</a></li>\n",
      "<li><a href=\"client2/\">client2/</a></li>\n",
      "</ul>\n",
      "<hr>\n",
      "</body>\n",
      "</html>\n"
     ]
    }
   ],
   "source": [
    "#2\n",
    "url2='http://127.0.0.1:8080/?SUSTech-HTTP=0'\n",
    "\n",
    "headers={\"Authorization\": \"Basic Y2xpZW50MToxMjM=\"}\n",
    "r=requests.get(url=url2, headers=headers)\n",
    "print(r.content.decode())"
   ]
  },
  {
   "cell_type": "code",
   "execution_count": 35,
   "metadata": {
    "collapsed": false,
    "ExecuteTime": {
     "end_time": "2023-12-31T22:19:04.101265300Z",
     "start_time": "2023-12-31T22:19:04.055258500Z"
    }
   },
   "outputs": [
    {
     "name": "stdout",
     "output_type": "stream",
     "text": [
      "asffewvewvwh\n"
     ]
    }
   ],
   "source": [
    "#2\n",
    "headers={\"Authorization\": \"Basic Y2xpZW50MToxMjM=\"}\n",
    "r=requests.get(url='http://127.0.0.1:8080/a.txt', headers=headers)\n",
    "print(r.content.decode())"
   ]
  },
  {
   "cell_type": "code",
   "execution_count": 39,
   "metadata": {
    "collapsed": false,
    "ExecuteTime": {
     "end_time": "2023-12-29T04:23:11.351186900Z",
     "start_time": "2023-12-29T04:23:11.289721900Z"
    }
   },
   "outputs": [
    {
     "name": "stdout",
     "output_type": "stream",
     "text": [
      "<Response [200]>\n",
      "<Response [403]>\n"
     ]
    }
   ],
   "source": [
    "#3.1\n",
    "files1 = {\"firstFile\": open('tmp/a.txt', \"rb\")}\n",
    "files2 = {\"image\": open('tmp/Hell.png', \"rb\")}\n",
    "files3 = {\"image\": open('tmp/Hell.mp4', \"rb\")}\n",
    "files4 = {\"zip\": open('tmp/a.zip', \"rb\")}\n",
    "\n",
    "data={}\n",
    "headers={\"Authorization\": \"Basic Y2xpZW50MToxMjM=\"}\n",
    "no_auth = {}\n",
    "r=requests.post(url='http://127.0.0.1:8080/upload?path=client1/',data=data,headers=headers, files=files1)\n",
    "print(\"txt:\", r, \"200\")\n",
    "r=requests.post(url='http://127.0.0.1:8080/upload?path=client2/',data=data,headers=headers, files=files1)\n",
    "print(\"forbidden:\", r, \"403\")\n",
    "\n",
    "r=requests.post(url='http://127.0.0.1:8080/upload?path=client1/',data=data,headers=headers, files=files2)\n",
    "print(\"img:\", r, \"200\")\n",
    "\n",
    "r=requests.post(url='http://127.0.0.1:8080/upload?path=client1/',data=data,headers=headers, files=files3)\n",
    "print(\"mp4:\", r, \"200\")\n",
    "\n",
    "r=requests.post(url='http://127.0.0.1:8080/upload?path=client1/',data=data,headers=headers, files=files4)\n",
    "print(\"zip:\", r, \"200\")\n",
    "\n",
    "r=requests.post(url='http://127.0.0.1:8080/upload?path=client5/',data=data,headers=headers, files=files1)\n",
    "print(\"wrong dir forbidden:\", r, \"403\")\n",
    "\n",
    "r=requests.post(url='http://127.0.0.1:8080/upload?path=client1/abc/',data=data,headers=headers, files=files1)\n",
    "print(\"wrong dir:\", r, \"404\")\n",
    "\n",
    "r=requests.post(url='http://127.0.0.1:8080/upld?path=client1/',data=data,headers=headers, files=files1)\n",
    "print(\"format error1:\", r, \"400\")\n",
    "\n",
    "r=requests.post(url='http://127.0.0.1:8080/?path=client1/',data=data,headers=headers, files=files1)\n",
    "print(\"format error2:\", r, \"400\")\n",
    "\n",
    "r=requests.post(url='http://127.0.0.1:8080/upload',data=data,headers=headers, files=files1)\n",
    "print(\"format error3:\", r, \"400\")\n",
    "\n",
    "r=requests.post(url='http://127.0.0.1:8080/upload?path=/client1/',data=data,headers=headers, files=files1)\n",
    "print(\"robust dir1:\", r, \"200\")\n",
    "\n",
    "r=requests.post(url='http://127.0.0.1:8080/upload?path=client1',data=data,headers=headers, files=files1)\n",
    "print(\"robust dir2:\", r, \"200\")\n",
    "\n",
    "r=requests.post(url='http://127.0.0.1:8080/',data=data,headers=headers, files=files1)\n",
    "print(\"wrong method1:\", r, \"405\")\n",
    "\n",
    "r=requests.post(url='http://127.0.0.1:8080/client1/Hell.png?SUSTech-HTTP=1',data=data,headers=headers, files=files1)\n",
    "print(\"wrong method2:\", r, \"405\")\n",
    "\n",
    "r=requests.post(url='http://127.0.0.1:8080/upload?path=client1/',data=data,headers=no_auth, files=files1)\n",
    "print(\"no auth:\", r, 401)"
   ]
  },
  {
   "cell_type": "code",
   "execution_count": 39,
   "metadata": {
    "collapsed": false,
    "ExecuteTime": {
     "end_time": "2024-01-01T00:09:44.353555Z",
     "start_time": "2024-01-01T00:09:44.303095400Z"
    }
   },
   "outputs": [
    {
     "name": "stdout",
     "output_type": "stream",
     "text": [
      "delete txt: <Response [404]> 200\n",
      "delete zip: <Response [404]> 200\n",
      "delete png: <Response [404]> 200\n",
      "delete mp4: <Response [404]> 200\n"
     ]
    }
   ],
   "source": [
    "#3.2\n",
    "url1='http://127.0.0.1:8080/delete?path=client1/a.txt'\n",
    "url2='http://127.0.0.1:8080/delete?path=client1/a.zip'\n",
    "url3='http://127.0.0.1:8080/delete?path=client1/Hell.png'\n",
    "url4='http://127.0.0.1:8080/delete?path=client1/video.mp4'\n",
    "\n",
    "headers={\"Authorization\": \"Basic Y2xpZW50MToxMjM=\"}\n",
    "r=requests.post(url=url1, headers=headers)\n",
    "print(\"delete txt:\", r, \"200\")\n",
    "\n",
    "r=requests.post(url=url2, headers=headers)\n",
    "print(\"delete zip:\", r, \"200\")\n",
    "\n",
    "r=requests.post(url=url3, headers=headers)\n",
    "print(\"delete png:\", r, \"200\")\n",
    "\n",
    "r=requests.post(url=url4, headers=headers)\n",
    "print(\"delete mp4:\", r, \"200\")\n"
   ]
  },
  {
   "cell_type": "code",
   "execution_count": 74,
   "metadata": {
    "ExecuteTime": {
     "end_time": "2023-11-20T12:25:32.321265500Z",
     "start_time": "2023-11-20T12:25:30.273918600Z"
    },
    "collapsed": false
   },
   "outputs": [
    {
     "name": "stdout",
     "output_type": "stream",
     "text": [
      "c20a7336-85da-4604-9885-0e7a17d404e5\n",
      "<Response [200]>\n"
     ]
    }
   ],
   "source": [
    "#4\n",
    "url='http://127.0.0.1:8080/'\n",
    "\n",
    "headers={\"Authorization\": \"Basic Y2xpZW50MToxMjM=\"}\n",
    "r=requests.get(url=url, headers=headers)\n",
    "print(r.cookies.values()[0])\n",
    "headers={\"Cookie\":'session-id='+r.cookies.values()[0]}\n",
    "q=requests.get('http://localhost:8080/',headers=headers)\n",
    "print(q.cookies)\n",
    "print(\"Cookie:\", q, \"200\")\n",
    "\n",
    "headers={\"Authorization\": \"Basic Y2xpZW50MToxMjM=\"}\n",
    "r=requests.get(url=url, headers=headers)\n",
    "print(\"new cookie:\", r.cookies.values()[0])\n",
    "\n",
    "headers={\"Cookie\":'session-id='+r.cookies.values()[0]}\n",
    "r=requests.post(url='http://127.0.0.1:8080/upload?path=client2/',data=data,headers=headers, files=files1)\n",
    "print(\"forbidden:\", r, \"403\")\n",
    "\n",
    "time.sleep(61)\n",
    "q=requests.get('http://localhost:8080/',headers=headers)\n",
    "print(q.cookies)\n",
    "print(\"timeout:\", q, \"401\")\n"
   ]
  },
  {
   "cell_type": "code",
   "execution_count": 40,
   "metadata": {
    "collapsed": false,
    "ExecuteTime": {
     "end_time": "2024-01-01T00:49:52.205564600Z",
     "start_time": "2024-01-01T00:49:52.086248100Z"
    }
   },
   "outputs": [
    {
     "name": "stdout",
     "output_type": "stream",
     "text": [
      "chunk: <Response [200]> 200\n"
     ]
    }
   ],
   "source": [
    "#5\n",
    "headers={\"Authorization\": \"Basic Y2xpZW50MToxMjM=\"}\n",
    "r=requests.get(url='http://127.0.0.1:8080/client1/video.mp4?chunked=1', headers=headers)\n",
    "print(\"chunk:\", r, \"200\")"
   ]
  },
  {
   "cell_type": "code",
   "execution_count": 76,
   "metadata": {
    "ExecuteTime": {
     "end_time": "2023-11-20T12:25:32.352124400Z",
     "start_time": "2023-11-20T12:25:32.338171Z"
    },
    "collapsed": false
   },
   "outputs": [
    {
     "name": "stdout",
     "output_type": "stream",
     "text": [
      "--THISISMYSELFDIFINEDBOUNDARY\n",
      "Content-type= text/plain\n",
      "Content-range= 0-1/11\n",
      "\n",
      "sa\n",
      "--THISISMYSELFDIFINEDBOUNDARY\n",
      "Content-type= text/plain\n",
      "Content-range= 1-2/11\n",
      "\n",
      "ad\n",
      "--THISISMYSELFDIFINEDBOUNDARY\n",
      "Content-type= text/plain\n",
      "Content-range= 2-3/11\n",
      "\n",
      "df\n",
      "--THISISMYSELFDIFINEDBOUNDARY--\n"
     ]
    }
   ],
   "source": [
    "#Breakpoint Transmission\n",
    "url='http://127.0.0.1:8080/client1/a.txt'\n",
    "\n",
    "data={}\n",
    "headers={\"Authorization\": \"Basic Y2xpZW50MToxMjM=\",\n",
    "         \"Range\": \"0-1,1-2,2-3\"}\n",
    "r=requests.get(url=url, data=data, headers=headers)\n",
    "print(r.content.decode())"
   ]
  }
 ],
 "metadata": {
  "kernelspec": {
   "display_name": "Python 3",
   "language": "python",
   "name": "python3"
  },
  "language_info": {
   "codemirror_mode": {
    "name": "ipython",
    "version": 3
   },
   "file_extension": ".py",
   "mimetype": "text/x-python",
   "name": "python",
   "nbconvert_exporter": "python",
   "pygments_lexer": "ipython3",
   "version": "3.10.12"
  }
 },
 "nbformat": 4,
 "nbformat_minor": 0
}
