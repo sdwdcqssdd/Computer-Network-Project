{
 "cells": [
  {
   "cell_type": "raw",
   "metadata": {
    "collapsed": false
   },
   "source": [
    "In the project, the majority of tasks will undergo script testing, with only a few being reviewed by the TA. Be aware that this testing material is not final and cannot cover all testing scenarios. If you are caught cheating during testing, the whole group will receive a score of 0 for the project."
   ]
  },
  {
   "cell_type": "raw",
   "metadata": {
    "collapsed": false
   },
   "source": [
    "The script checks using the requests library in Python. Before testing, ensure that the server has three users with the usernames \"client1\", \"client2\", and \"client3\", and the passwords \"123\". In the upcoming tests, if the Authorization field is needed, use \"client1\" and \"123\" as both the username and password."
   ]
  },
  {
   "cell_type": "code",
   "execution_count": 1,
   "metadata": {
    "collapsed": false,
    "ExecuteTime": {
     "end_time": "2023-12-31T16:48:51.921042800Z",
     "start_time": "2023-12-31T16:48:51.831225800Z"
    }
   },
   "outputs": [],
   "source": [
    "import requests\n",
    "import time"
   ]
  },
  {
   "cell_type": "raw",
   "metadata": {
    "collapsed": false
   },
   "source": [
    "The initial check is the head request, a fundamental job of the server is to respond to the request. Use the \"headers\" parameter for logging into the server. Disregard this parameter if the server lacks the login feature."
   ]
  },
  {
   "cell_type": "code",
   "execution_count": 29,
   "metadata": {
    "collapsed": false,
    "ExecuteTime": {
     "end_time": "2023-12-29T04:22:18.707166800Z",
     "start_time": "2023-12-29T04:22:16.636512100Z"
    }
   },
   "outputs": [
    {
     "name": "stdout",
     "output_type": "stream",
     "text": [
      "<Response [200]>\n"
     ]
    }
   ],
   "source": [
    "headers={\"Authorization\": \"Basic Y2xpZW50MToxMjM=\"}\n",
    "q=requests.head('http://localhost:8080/',headers=headers)\n",
    "print(q)\n"
   ]
  },
  {
   "cell_type": "raw",
   "metadata": {
    "collapsed": false
   },
   "source": [
    "Test get request"
   ]
  },
  {
   "cell_type": "code",
   "execution_count": 30,
   "metadata": {
    "collapsed": false,
    "ExecuteTime": {
     "end_time": "2023-12-29T04:22:24.555690200Z",
     "start_time": "2023-12-29T04:22:22.495323Z"
    }
   },
   "outputs": [
    {
     "name": "stdout",
     "output_type": "stream",
     "text": [
      "<Response [200]>\n"
     ]
    }
   ],
   "source": [
    "headers={\"Authorization\": \"Basic Y2xpZW50MToxMjM=\"}\n",
    "q=requests.get('http://localhost:8080/',headers=headers)\n",
    "print(q)"
   ]
  },
  {
   "cell_type": "raw",
   "metadata": {
    "collapsed": false
   },
   "source": [
    "Test post request"
   ]
  },
  {
   "cell_type": "code",
   "execution_count": 2,
   "metadata": {
    "collapsed": false,
    "ExecuteTime": {
     "end_time": "2023-12-30T07:11:13.193582600Z",
     "start_time": "2023-12-30T07:11:11.133798500Z"
    }
   },
   "outputs": [
    {
     "name": "stdout",
     "output_type": "stream",
     "text": [
      "<Response [400]>\n"
     ]
    }
   ],
   "source": [
    "headers={\"Authorization\": \"Basic Y2xpZW50MToxMjM=\"}\n",
    "q=requests.post('http://localhost:8080/',headers=headers)\n",
    "print(q)"
   ]
  },
  {
   "cell_type": "raw",
   "metadata": {
    "collapsed": false
   },
   "source": [
    "Next, we will provide test examples based on the chapters in the project documentation. Each test is accompanied by a output. We do not check exact string matches for your output, as long as you complete the corresponding task.\n",
    "\n"
   ]
  },
  {
   "cell_type": "code",
   "execution_count": 33,
   "metadata": {
    "collapsed": false,
    "ExecuteTime": {
     "end_time": "2023-12-29T04:22:40.463495300Z",
     "start_time": "2023-12-29T04:22:40.438666800Z"
    }
   },
   "outputs": [
    {
     "name": "stdout",
     "output_type": "stream",
     "text": [
      "<Response [200]>\n",
      "<Response [200]>\n"
     ]
    }
   ],
   "source": [
    "#1.1\n",
    "headers={\"Authorization\": \"Basic Y2xpZW50MToxMjM=\"}\n",
    "session = requests.Session()\n",
    "session.headers.update({'Connection': 'keep-alive'})\n",
    "\n",
    "response1 = session.get('http://127.0.0.1:8080',headers=headers)\n",
    "response2 = session.get('http://127.0.0.1:8080',headers=headers)\n",
    "\n",
    "print(response1)\n",
    "print(response2)\n",
    "\n",
    "session.headers.update({'Connection': 'close'})\n",
    "response3 = session.get('http://127.0.0.1:8080',headers=headers)\n",
    "\n",
    "print(response3)\n"
   ]
  },
  {
   "cell_type": "code",
   "execution_count": 2,
   "metadata": {
    "collapsed": false,
    "ExecuteTime": {
     "end_time": "2023-12-30T14:43:19.307018600Z",
     "start_time": "2023-12-30T14:42:58.541865800Z"
    }
   },
   "outputs": [
    {
     "ename": "KeyboardInterrupt",
     "evalue": "",
     "output_type": "error",
     "traceback": [
      "\u001B[1;31m---------------------------------------------------------------------------\u001B[0m",
      "\u001B[1;31mKeyboardInterrupt\u001B[0m                         Traceback (most recent call last)",
      "Cell \u001B[1;32mIn[2], line 9\u001B[0m\n\u001B[0;32m      6\u001B[0m session2 \u001B[38;5;241m=\u001B[39m requests\u001B[38;5;241m.\u001B[39mSession()\n\u001B[0;32m      7\u001B[0m session2\u001B[38;5;241m.\u001B[39mheaders\u001B[38;5;241m.\u001B[39mupdate({\u001B[38;5;124m'\u001B[39m\u001B[38;5;124mConnection\u001B[39m\u001B[38;5;124m'\u001B[39m: \u001B[38;5;124m'\u001B[39m\u001B[38;5;124mkeep-alive\u001B[39m\u001B[38;5;124m'\u001B[39m})\n\u001B[1;32m----> 9\u001B[0m response1 \u001B[38;5;241m=\u001B[39m session1\u001B[38;5;241m.\u001B[39mget(\u001B[38;5;124m'\u001B[39m\u001B[38;5;124mhttp://127.0.0.1:8080\u001B[39m\u001B[38;5;124m'\u001B[39m,headers\u001B[38;5;241m=\u001B[39mheaders)\n\u001B[0;32m     10\u001B[0m response2 \u001B[38;5;241m=\u001B[39m session2\u001B[38;5;241m.\u001B[39mget(\u001B[38;5;124m'\u001B[39m\u001B[38;5;124mhttp://127.0.0.1:8080\u001B[39m\u001B[38;5;124m'\u001B[39m,headers\u001B[38;5;241m=\u001B[39mheaders)\n\u001B[0;32m     13\u001B[0m \u001B[38;5;28mprint\u001B[39m(response1)\n",
      "File \u001B[1;32m~\\anaconda3\\Lib\\site-packages\\requests\\sessions.py:602\u001B[0m, in \u001B[0;36mSession.get\u001B[1;34m(self, url, **kwargs)\u001B[0m\n\u001B[0;32m    594\u001B[0m \u001B[38;5;250m\u001B[39m\u001B[38;5;124mr\u001B[39m\u001B[38;5;124;03m\"\"\"Sends a GET request. Returns :class:`Response` object.\u001B[39;00m\n\u001B[0;32m    595\u001B[0m \n\u001B[0;32m    596\u001B[0m \u001B[38;5;124;03m:param url: URL for the new :class:`Request` object.\u001B[39;00m\n\u001B[0;32m    597\u001B[0m \u001B[38;5;124;03m:param \\*\\*kwargs: Optional arguments that ``request`` takes.\u001B[39;00m\n\u001B[0;32m    598\u001B[0m \u001B[38;5;124;03m:rtype: requests.Response\u001B[39;00m\n\u001B[0;32m    599\u001B[0m \u001B[38;5;124;03m\"\"\"\u001B[39;00m\n\u001B[0;32m    601\u001B[0m kwargs\u001B[38;5;241m.\u001B[39msetdefault(\u001B[38;5;124m\"\u001B[39m\u001B[38;5;124mallow_redirects\u001B[39m\u001B[38;5;124m\"\u001B[39m, \u001B[38;5;28;01mTrue\u001B[39;00m)\n\u001B[1;32m--> 602\u001B[0m \u001B[38;5;28;01mreturn\u001B[39;00m \u001B[38;5;28mself\u001B[39m\u001B[38;5;241m.\u001B[39mrequest(\u001B[38;5;124m\"\u001B[39m\u001B[38;5;124mGET\u001B[39m\u001B[38;5;124m\"\u001B[39m, url, \u001B[38;5;241m*\u001B[39m\u001B[38;5;241m*\u001B[39mkwargs)\n",
      "File \u001B[1;32m~\\anaconda3\\Lib\\site-packages\\requests\\sessions.py:589\u001B[0m, in \u001B[0;36mSession.request\u001B[1;34m(self, method, url, params, data, headers, cookies, files, auth, timeout, allow_redirects, proxies, hooks, stream, verify, cert, json)\u001B[0m\n\u001B[0;32m    584\u001B[0m send_kwargs \u001B[38;5;241m=\u001B[39m {\n\u001B[0;32m    585\u001B[0m     \u001B[38;5;124m\"\u001B[39m\u001B[38;5;124mtimeout\u001B[39m\u001B[38;5;124m\"\u001B[39m: timeout,\n\u001B[0;32m    586\u001B[0m     \u001B[38;5;124m\"\u001B[39m\u001B[38;5;124mallow_redirects\u001B[39m\u001B[38;5;124m\"\u001B[39m: allow_redirects,\n\u001B[0;32m    587\u001B[0m }\n\u001B[0;32m    588\u001B[0m send_kwargs\u001B[38;5;241m.\u001B[39mupdate(settings)\n\u001B[1;32m--> 589\u001B[0m resp \u001B[38;5;241m=\u001B[39m \u001B[38;5;28mself\u001B[39m\u001B[38;5;241m.\u001B[39msend(prep, \u001B[38;5;241m*\u001B[39m\u001B[38;5;241m*\u001B[39msend_kwargs)\n\u001B[0;32m    591\u001B[0m \u001B[38;5;28;01mreturn\u001B[39;00m resp\n",
      "File \u001B[1;32m~\\anaconda3\\Lib\\site-packages\\requests\\sessions.py:703\u001B[0m, in \u001B[0;36mSession.send\u001B[1;34m(self, request, **kwargs)\u001B[0m\n\u001B[0;32m    700\u001B[0m start \u001B[38;5;241m=\u001B[39m preferred_clock()\n\u001B[0;32m    702\u001B[0m \u001B[38;5;66;03m# Send the request\u001B[39;00m\n\u001B[1;32m--> 703\u001B[0m r \u001B[38;5;241m=\u001B[39m adapter\u001B[38;5;241m.\u001B[39msend(request, \u001B[38;5;241m*\u001B[39m\u001B[38;5;241m*\u001B[39mkwargs)\n\u001B[0;32m    705\u001B[0m \u001B[38;5;66;03m# Total elapsed time of the request (approximately)\u001B[39;00m\n\u001B[0;32m    706\u001B[0m elapsed \u001B[38;5;241m=\u001B[39m preferred_clock() \u001B[38;5;241m-\u001B[39m start\n",
      "File \u001B[1;32m~\\anaconda3\\Lib\\site-packages\\requests\\adapters.py:486\u001B[0m, in \u001B[0;36mHTTPAdapter.send\u001B[1;34m(self, request, stream, timeout, verify, cert, proxies)\u001B[0m\n\u001B[0;32m    483\u001B[0m     timeout \u001B[38;5;241m=\u001B[39m TimeoutSauce(connect\u001B[38;5;241m=\u001B[39mtimeout, read\u001B[38;5;241m=\u001B[39mtimeout)\n\u001B[0;32m    485\u001B[0m \u001B[38;5;28;01mtry\u001B[39;00m:\n\u001B[1;32m--> 486\u001B[0m     resp \u001B[38;5;241m=\u001B[39m conn\u001B[38;5;241m.\u001B[39murlopen(\n\u001B[0;32m    487\u001B[0m         method\u001B[38;5;241m=\u001B[39mrequest\u001B[38;5;241m.\u001B[39mmethod,\n\u001B[0;32m    488\u001B[0m         url\u001B[38;5;241m=\u001B[39murl,\n\u001B[0;32m    489\u001B[0m         body\u001B[38;5;241m=\u001B[39mrequest\u001B[38;5;241m.\u001B[39mbody,\n\u001B[0;32m    490\u001B[0m         headers\u001B[38;5;241m=\u001B[39mrequest\u001B[38;5;241m.\u001B[39mheaders,\n\u001B[0;32m    491\u001B[0m         redirect\u001B[38;5;241m=\u001B[39m\u001B[38;5;28;01mFalse\u001B[39;00m,\n\u001B[0;32m    492\u001B[0m         assert_same_host\u001B[38;5;241m=\u001B[39m\u001B[38;5;28;01mFalse\u001B[39;00m,\n\u001B[0;32m    493\u001B[0m         preload_content\u001B[38;5;241m=\u001B[39m\u001B[38;5;28;01mFalse\u001B[39;00m,\n\u001B[0;32m    494\u001B[0m         decode_content\u001B[38;5;241m=\u001B[39m\u001B[38;5;28;01mFalse\u001B[39;00m,\n\u001B[0;32m    495\u001B[0m         retries\u001B[38;5;241m=\u001B[39m\u001B[38;5;28mself\u001B[39m\u001B[38;5;241m.\u001B[39mmax_retries,\n\u001B[0;32m    496\u001B[0m         timeout\u001B[38;5;241m=\u001B[39mtimeout,\n\u001B[0;32m    497\u001B[0m         chunked\u001B[38;5;241m=\u001B[39mchunked,\n\u001B[0;32m    498\u001B[0m     )\n\u001B[0;32m    500\u001B[0m \u001B[38;5;28;01mexcept\u001B[39;00m (ProtocolError, \u001B[38;5;167;01mOSError\u001B[39;00m) \u001B[38;5;28;01mas\u001B[39;00m err:\n\u001B[0;32m    501\u001B[0m     \u001B[38;5;28;01mraise\u001B[39;00m \u001B[38;5;167;01mConnectionError\u001B[39;00m(err, request\u001B[38;5;241m=\u001B[39mrequest)\n",
      "File \u001B[1;32m~\\anaconda3\\Lib\\site-packages\\urllib3\\connectionpool.py:714\u001B[0m, in \u001B[0;36mHTTPConnectionPool.urlopen\u001B[1;34m(self, method, url, body, headers, retries, redirect, assert_same_host, timeout, pool_timeout, release_conn, chunked, body_pos, **response_kw)\u001B[0m\n\u001B[0;32m    711\u001B[0m     \u001B[38;5;28mself\u001B[39m\u001B[38;5;241m.\u001B[39m_prepare_proxy(conn)\n\u001B[0;32m    713\u001B[0m \u001B[38;5;66;03m# Make the request on the httplib connection object.\u001B[39;00m\n\u001B[1;32m--> 714\u001B[0m httplib_response \u001B[38;5;241m=\u001B[39m \u001B[38;5;28mself\u001B[39m\u001B[38;5;241m.\u001B[39m_make_request(\n\u001B[0;32m    715\u001B[0m     conn,\n\u001B[0;32m    716\u001B[0m     method,\n\u001B[0;32m    717\u001B[0m     url,\n\u001B[0;32m    718\u001B[0m     timeout\u001B[38;5;241m=\u001B[39mtimeout_obj,\n\u001B[0;32m    719\u001B[0m     body\u001B[38;5;241m=\u001B[39mbody,\n\u001B[0;32m    720\u001B[0m     headers\u001B[38;5;241m=\u001B[39mheaders,\n\u001B[0;32m    721\u001B[0m     chunked\u001B[38;5;241m=\u001B[39mchunked,\n\u001B[0;32m    722\u001B[0m )\n\u001B[0;32m    724\u001B[0m \u001B[38;5;66;03m# If we're going to release the connection in ``finally:``, then\u001B[39;00m\n\u001B[0;32m    725\u001B[0m \u001B[38;5;66;03m# the response doesn't need to know about the connection. Otherwise\u001B[39;00m\n\u001B[0;32m    726\u001B[0m \u001B[38;5;66;03m# it will also try to release it and we'll have a double-release\u001B[39;00m\n\u001B[0;32m    727\u001B[0m \u001B[38;5;66;03m# mess.\u001B[39;00m\n\u001B[0;32m    728\u001B[0m response_conn \u001B[38;5;241m=\u001B[39m conn \u001B[38;5;28;01mif\u001B[39;00m \u001B[38;5;129;01mnot\u001B[39;00m release_conn \u001B[38;5;28;01melse\u001B[39;00m \u001B[38;5;28;01mNone\u001B[39;00m\n",
      "File \u001B[1;32m~\\anaconda3\\Lib\\site-packages\\urllib3\\connectionpool.py:466\u001B[0m, in \u001B[0;36mHTTPConnectionPool._make_request\u001B[1;34m(self, conn, method, url, timeout, chunked, **httplib_request_kw)\u001B[0m\n\u001B[0;32m    461\u001B[0m             httplib_response \u001B[38;5;241m=\u001B[39m conn\u001B[38;5;241m.\u001B[39mgetresponse()\n\u001B[0;32m    462\u001B[0m         \u001B[38;5;28;01mexcept\u001B[39;00m \u001B[38;5;167;01mBaseException\u001B[39;00m \u001B[38;5;28;01mas\u001B[39;00m e:\n\u001B[0;32m    463\u001B[0m             \u001B[38;5;66;03m# Remove the TypeError from the exception chain in\u001B[39;00m\n\u001B[0;32m    464\u001B[0m             \u001B[38;5;66;03m# Python 3 (including for exceptions like SystemExit).\u001B[39;00m\n\u001B[0;32m    465\u001B[0m             \u001B[38;5;66;03m# Otherwise it looks like a bug in the code.\u001B[39;00m\n\u001B[1;32m--> 466\u001B[0m             six\u001B[38;5;241m.\u001B[39mraise_from(e, \u001B[38;5;28;01mNone\u001B[39;00m)\n\u001B[0;32m    467\u001B[0m \u001B[38;5;28;01mexcept\u001B[39;00m (SocketTimeout, BaseSSLError, SocketError) \u001B[38;5;28;01mas\u001B[39;00m e:\n\u001B[0;32m    468\u001B[0m     \u001B[38;5;28mself\u001B[39m\u001B[38;5;241m.\u001B[39m_raise_timeout(err\u001B[38;5;241m=\u001B[39me, url\u001B[38;5;241m=\u001B[39murl, timeout_value\u001B[38;5;241m=\u001B[39mread_timeout)\n",
      "File \u001B[1;32m<string>:3\u001B[0m, in \u001B[0;36mraise_from\u001B[1;34m(value, from_value)\u001B[0m\n",
      "File \u001B[1;32m~\\anaconda3\\Lib\\site-packages\\urllib3\\connectionpool.py:461\u001B[0m, in \u001B[0;36mHTTPConnectionPool._make_request\u001B[1;34m(self, conn, method, url, timeout, chunked, **httplib_request_kw)\u001B[0m\n\u001B[0;32m    458\u001B[0m \u001B[38;5;28;01mexcept\u001B[39;00m \u001B[38;5;167;01mTypeError\u001B[39;00m:\n\u001B[0;32m    459\u001B[0m     \u001B[38;5;66;03m# Python 3\u001B[39;00m\n\u001B[0;32m    460\u001B[0m     \u001B[38;5;28;01mtry\u001B[39;00m:\n\u001B[1;32m--> 461\u001B[0m         httplib_response \u001B[38;5;241m=\u001B[39m conn\u001B[38;5;241m.\u001B[39mgetresponse()\n\u001B[0;32m    462\u001B[0m     \u001B[38;5;28;01mexcept\u001B[39;00m \u001B[38;5;167;01mBaseException\u001B[39;00m \u001B[38;5;28;01mas\u001B[39;00m e:\n\u001B[0;32m    463\u001B[0m         \u001B[38;5;66;03m# Remove the TypeError from the exception chain in\u001B[39;00m\n\u001B[0;32m    464\u001B[0m         \u001B[38;5;66;03m# Python 3 (including for exceptions like SystemExit).\u001B[39;00m\n\u001B[0;32m    465\u001B[0m         \u001B[38;5;66;03m# Otherwise it looks like a bug in the code.\u001B[39;00m\n\u001B[0;32m    466\u001B[0m         six\u001B[38;5;241m.\u001B[39mraise_from(e, \u001B[38;5;28;01mNone\u001B[39;00m)\n",
      "File \u001B[1;32m~\\anaconda3\\Lib\\http\\client.py:1380\u001B[0m, in \u001B[0;36mHTTPConnection.getresponse\u001B[1;34m(self)\u001B[0m\n\u001B[0;32m   1378\u001B[0m     response\u001B[38;5;241m.\u001B[39mbegin()\n\u001B[0;32m   1379\u001B[0m \u001B[38;5;28;01mexcept\u001B[39;00m \u001B[38;5;167;01mConnectionError\u001B[39;00m:\n\u001B[1;32m-> 1380\u001B[0m     \u001B[38;5;28mself\u001B[39m\u001B[38;5;241m.\u001B[39mclose()\n\u001B[0;32m   1381\u001B[0m     \u001B[38;5;28;01mraise\u001B[39;00m\n\u001B[0;32m   1382\u001B[0m \u001B[38;5;28;01massert\u001B[39;00m response\u001B[38;5;241m.\u001B[39mwill_close \u001B[38;5;241m!=\u001B[39m _UNKNOWN\n",
      "File \u001B[1;32m~\\anaconda3\\Lib\\http\\client.py:957\u001B[0m, in \u001B[0;36mHTTPConnection.close\u001B[1;34m(self)\u001B[0m\n\u001B[0;32m    954\u001B[0m     \u001B[38;5;28;01mif\u001B[39;00m \u001B[38;5;28mself\u001B[39m\u001B[38;5;241m.\u001B[39m_tunnel_host:\n\u001B[0;32m    955\u001B[0m         \u001B[38;5;28mself\u001B[39m\u001B[38;5;241m.\u001B[39m_tunnel()\n\u001B[1;32m--> 957\u001B[0m \u001B[38;5;28;01mdef\u001B[39;00m \u001B[38;5;21mclose\u001B[39m(\u001B[38;5;28mself\u001B[39m):\n\u001B[0;32m    958\u001B[0m \u001B[38;5;250m    \u001B[39m\u001B[38;5;124;03m\"\"\"Close the connection to the HTTP server.\"\"\"\u001B[39;00m\n\u001B[0;32m    959\u001B[0m     \u001B[38;5;28mself\u001B[39m\u001B[38;5;241m.\u001B[39m__state \u001B[38;5;241m=\u001B[39m _CS_IDLE\n",
      "\u001B[1;31mKeyboardInterrupt\u001B[0m: "
     ]
    }
   ],
   "source": [
    "#1.2\n",
    "#1.1\n",
    "headers={\"Authorization\": \"Basic Y2xpZW50MToxMjM=\"}\n",
    "session1 = requests.Session()\n",
    "session1.headers.update({'Connection': 'keep-alive'})\n",
    "session2 = requests.Session()\n",
    "session2.headers.update({'Connection': 'keep-alive'})\n",
    "\n",
    "response1 = session1.get('http://127.0.0.1:8080',headers=headers)\n",
    "response2 = session2.get('http://127.0.0.1:8080',headers=headers)\n",
    "\n",
    "\n",
    "print(response1)\n",
    "print(response2)\n",
    "\n",
    "session1.headers.update({'Connection': 'close'})\n",
    "session2.headers.update({'Connection': 'close'})\n",
    "response3 = session1.get('http://127.0.0.1:8080/clent2/',headers=headers)\n",
    "response4 = session2.get('http://127.0.0.1:8080/wrong/',headers=headers)\n",
    "\n",
    "print(response3)\n",
    "print(response4)\n"
   ]
  },
  {
   "cell_type": "code",
   "execution_count": 14,
   "metadata": {
    "collapsed": false,
    "ExecuteTime": {
     "end_time": "2023-12-31T17:09:58.582294700Z",
     "start_time": "2023-12-31T17:09:54.507915900Z"
    }
   },
   "outputs": [
    {
     "name": "stdout",
     "output_type": "stream",
     "text": [
      "<Response [200]>\n",
      "<Response [401]>\n"
     ]
    }
   ],
   "source": [
    "#1.3\n",
    "headers1={\"Authorization\": \"Basic Y2xpZW50MToxMjM=\"}\n",
    "headers2={}\n",
    "q=requests.head('http://localhost:8080/',headers=headers1)\n",
    "print(q)\n",
    "q=requests.head('http://localhost:8080/',headers=headers2)\n",
    "print(q)"
   ]
  },
  {
   "cell_type": "code",
   "execution_count": 1,
   "metadata": {
    "collapsed": false,
    "ExecuteTime": {
     "end_time": "2023-12-31T05:25:28.108170600Z",
     "start_time": "2023-12-31T05:25:27.263553800Z"
    }
   },
   "outputs": [
    {
     "ename": "NameError",
     "evalue": "name 'requests' is not defined",
     "output_type": "error",
     "traceback": [
      "\u001B[1;31m---------------------------------------------------------------------------\u001B[0m",
      "\u001B[1;31mNameError\u001B[0m                                 Traceback (most recent call last)",
      "Cell \u001B[1;32mIn[1], line 20\u001B[0m\n\u001B[0;32m     17\u001B[0m urlc \u001B[38;5;241m=\u001B[39m \u001B[38;5;124m'\u001B[39m\u001B[38;5;124mhttp://127.0.0.1:8080/client1/upload?path=client1/\u001B[39m\u001B[38;5;124m'\u001B[39m\n\u001B[0;32m     19\u001B[0m headers\u001B[38;5;241m=\u001B[39m{\u001B[38;5;124m\"\u001B[39m\u001B[38;5;124mAuthorization\u001B[39m\u001B[38;5;124m\"\u001B[39m: \u001B[38;5;124m\"\u001B[39m\u001B[38;5;124mBasic Y2xpZW50MToxMjM=\u001B[39m\u001B[38;5;124m\"\u001B[39m}\n\u001B[1;32m---> 20\u001B[0m r\u001B[38;5;241m=\u001B[39mrequests\u001B[38;5;241m.\u001B[39mget(url\u001B[38;5;241m=\u001B[39murl9, headers\u001B[38;5;241m=\u001B[39mheaders)\n\u001B[0;32m     21\u001B[0m r\u001B[38;5;241m=\u001B[39mrequests\u001B[38;5;241m.\u001B[39mget(url\u001B[38;5;241m=\u001B[39murl9, headers\u001B[38;5;241m=\u001B[39mheaders)\n\u001B[0;32m     22\u001B[0m r\u001B[38;5;241m=\u001B[39mrequests\u001B[38;5;241m.\u001B[39mget(url\u001B[38;5;241m=\u001B[39murl9, headers\u001B[38;5;241m=\u001B[39mheaders)\n",
      "\u001B[1;31mNameError\u001B[0m: name 'requests' is not defined"
     ]
    }
   ],
   "source": [
    "#2\n",
    "url1 = 'http://127.0.0.1:8080/'\n",
    "url2 = 'http://127.0.0.1:8080/?SUSTech-HTTP=0'\n",
    "url3 = 'http://127.0.0.1:8080/?SUSTech-HTTP=1'\n",
    "\n",
    "url4 = 'http://127.0.0.1:8080/client1/Hell.png?SUSTech-HTTP=1'\n",
    "url5 = 'http://127.0.0.1:8080/client1/Hell.png?SUSTech-HTTP=0'\n",
    "url6 = 'http://127.0.0.1:8080/client1/Hell.png'\n",
    "\n",
    "url7 = 'http://127.0.0.1:8080/?SUSTech=1'\n",
    "\n",
    "url8 = 'http://127.0.0.1:8080/client1/wtf.txt'\n",
    "\n",
    "url9 = 'http://127.0.0.1:8080/?path=HTTP1/'\n",
    "urla = 'http://127.0.0.1:8080/upload?path=HTTP1/'\n",
    "urlb = 'http://127.0.0.1:8080/upload?path=client1/'\n",
    "urlc = 'http://127.0.0.1:8080/client1/upload?path=client1/'\n",
    "\n",
    "headers={\"Authorization\": \"Basic Y2xpZW50MToxMjM=\"}\n",
    "no_auth = {}\n",
    "\n",
    "r=requests.get(url=url1, headers=headers)\n",
    "print(\"url1:\", r)\n",
    "print(r.content.decode())\n",
    "\n",
    "r=requests.get(url=url2, headers=headers)\n",
    "print(\"url2: \", r)\n",
    "print(r.content.decode())\n",
    "\n",
    "r=requests.get(url=url3, headers=headers)\n",
    "print(\"url3: \", r)\n",
    "print(r.content.decode())\n",
    "\n",
    "r=requests.get(url=url4, headers=headers)\n",
    "print(\"url4: \", r)\n",
    "print(r.content.decode())\n",
    "\n",
    "r=requests.get(url=url5, headers=headers)\n",
    "print(\"url5: \", r)\n",
    "print(r.content.decode())\n",
    "\n",
    "r=requests.get(url=url6, headers=headers)\n",
    "print(\"url6: \", r)\n",
    "print(r.content.decode())\n",
    "\n",
    "r=requests.get(url=url7, headers=headers)\n",
    "print(\"url7: \", r)\n",
    "print(r.content.decode())\n",
    "\n",
    "r=requests.get(url=url8, headers=headers)\n",
    "print(\"url8: \", r)\n",
    "print(r.content.decode())\n",
    "\n",
    "r=requests.get(url=url9, headers=headers)\n",
    "print(\"url9: \", r)\n",
    "print(r.content.decode())\n",
    "\n",
    "r=requests.get(url=urla, headers=headers)\n",
    "print(\"urla: \", r)\n",
    "print(r.content.decode())\n",
    "\n",
    "r=requests.get(url=urlb, headers=headers)\n",
    "print(\"urlb: \", r)\n",
    "print(r.content.decode())\n",
    "\n",
    "r=requests.get(url=urlc, headers=headers)\n",
    "print(\"urlc: \", r)\n",
    "print(r.content.decode())\n",
    "\n",
    "r=requests.get(url=url3, headers=no_auth)\n",
    "print(\"urlx:\", r)\n",
    "print(r.content.decode())\n",
    "\n",
    "\n"
   ]
  },
  {
   "cell_type": "code",
   "execution_count": 37,
   "metadata": {
    "collapsed": false,
    "ExecuteTime": {
     "end_time": "2023-12-29T04:22:51.840990700Z",
     "start_time": "2023-12-29T04:22:51.821287600Z"
    }
   },
   "outputs": [
    {
     "name": "stdout",
     "output_type": "stream",
     "text": [
      "<!DOCTYPE HTML PUBLIC \"-//W3C//DTD HTML 4.01//EN\" \"http://www.w3.org/TR/html4/strict.dtd\">\n",
      "<html>\n",
      "<meta http-equiv=\"Content-Type\" content=\"text/html; charset=utf-8\">\n",
      "<title>Directory listing for data/</title>\n",
      "</head>\n",
      "<body>\n",
      "<h1>Directory listing for data/</h1>\n",
      "<hr>\n",
      "<ul>\n",
      "<li><a href=\"12112922/\">12112922/</a></li>\n",
      "<li><a href=\"client1/\">client1/</a></li>\n",
      "</ul>\n",
      "<hr>\n",
      "</body>\n",
      "</html>\n"
     ]
    }
   ],
   "source": [
    "#2\n",
    "url2='http://127.0.0.1:8080/?SUSTech-HTTP=0'\n",
    "\n",
    "headers={\"Authorization\": \"Basic Y2xpZW50MToxMjM=\"}\n",
    "r=requests.get(url=url2, headers=headers)\n",
    "print(r.content.decode())"
   ]
  },
  {
   "cell_type": "code",
   "execution_count": 38,
   "metadata": {
    "collapsed": false,
    "ExecuteTime": {
     "end_time": "2023-12-29T04:22:52.969042900Z",
     "start_time": "2023-12-29T04:22:52.945851400Z"
    }
   },
   "outputs": [
    {
     "name": "stdout",
     "output_type": "stream",
     "text": [
      "<!DOCTYPE HTML PUBLIC \"-//W3C//DTD HTML 4.01//EN\" \"http://www.w3.org/TR/html4/strict.dtd\">\n",
      "<html>\n",
      "<meta http-equiv=\"Content-Type\" content=\"text/html; charset=utf-8\">\n",
      "<title>Error response</title>\n",
      "</head>\n",
      "<body>\n",
      "<h1>Error response</h1>\n",
      "<p>Error code: 404</p>\n",
      "<p>Message: File not found.</p>\n",
      "<p>Error code explanation: HTTPStatus.NOT_FOUND - Nothing matches the given URL.</p>\n",
      "</body>\n",
      "</html>\n"
     ]
    }
   ],
   "source": [
    "#2\n",
    "headers={\"Authorization\": \"Basic Y2xpZW50MToxMjM=\"}\n",
    "r=requests.get(url='http://127.0.0.1:8080/a.txt', headers=headers)\n",
    "print(r.content.decode())"
   ]
  },
  {
   "cell_type": "code",
   "execution_count": 39,
   "metadata": {
    "collapsed": false,
    "ExecuteTime": {
     "end_time": "2023-12-29T04:23:11.351186900Z",
     "start_time": "2023-12-29T04:23:11.289721900Z"
    }
   },
   "outputs": [
    {
     "name": "stdout",
     "output_type": "stream",
     "text": [
      "<Response [200]>\n",
      "<Response [403]>\n"
     ]
    }
   ],
   "source": [
    "#3.1\n",
    "files1 = {\"firstFile\": open('tmp/a.txt', \"rb\")}\n",
    "files2 = {\"image\": open('tmp/Hell.png', \"rb\")}\n",
    "files3 = {\"image\": open('tmp/Hell.mp4', \"rb\")}\n",
    "files4 = {\"zip\": open('tmp/a.zip', \"rb\")}\n",
    "\n",
    "data={}\n",
    "headers={\"Authorization\": \"Basic Y2xpZW50MToxMjM=\"}\n",
    "no_auth = {}\n",
    "r=requests.post(url='http://127.0.0.1:8080/upload?path=client1/',data=data,headers=headers, files=files1)\n",
    "print(\"txt:\", r)\n",
    "r=requests.post(url='http://127.0.0.1:8080/upload?path=client2/',data=data,headers=headers, files=files1)\n",
    "print(\"forbidden:\", r)\n",
    "\n",
    "r=requests.post(url='http://127.0.0.1:8080/upload?path=client1/',data=data,headers=headers, files=files2)\n",
    "print(\"img:\", r)\n",
    "\n",
    "r=requests.post(url='http://127.0.0.1:8080/upload?path=client1/',data=data,headers=headers, files=files3)\n",
    "print(\"mp4:\", r)\n",
    "\n",
    "r=requests.post(url='http://127.0.0.1:8080/upload?path=client1/',data=data,headers=headers, files=files4)\n",
    "print(\"zip:\", r)\n",
    "\n",
    "r=requests.post(url='http://127.0.0.1:8080/upload?path=client5/',data=data,headers=headers, files=files1)\n",
    "print(\"wrong dir no auth:\", r)\n",
    "\n",
    "r=requests.post(url='http://127.0.0.1:8080/upload?path=client1/abc/',data=data,headers=headers, files=files1)\n",
    "print(\"wrong dir:\", r)\n",
    "\n",
    "r=requests.post(url='http://127.0.0.1:8080/upld?path=client1/',data=data,headers=headers, files=files1)\n",
    "print(\"format error1:\", r)\n",
    "\n",
    "r=requests.post(url='http://127.0.0.1:8080/?path=client1/',data=data,headers=headers, files=files1)\n",
    "print(\"format error2:\", r)\n",
    "\n",
    "r=requests.post(url='http://127.0.0.1:8080/upload',data=data,headers=headers, files=files1)\n",
    "print(\"format error3:\", r)\n",
    "\n",
    "r=requests.post(url='http://127.0.0.1:8080/upload?path=/client1/',data=data,headers=headers, files=files1)\n",
    "print(\"robust dir1:\", r)\n",
    "\n",
    "r=requests.post(url='http://127.0.0.1:8080/upload?path=client1',data=data,headers=headers, files=files1)\n",
    "print(\"robust dir2:\", r)\n",
    "\n",
    "r=requests.post(url='http://127.0.0.1:8080/',data=data,headers=headers, files=files1)\n",
    "print(\"wrong method1:\", r)\n",
    "\n",
    "r=requests.post(url='http://127.0.0.1:8080/client1/Hell.png?SUSTech-HTTP=1',data=data,headers=headers, files=files1)\n",
    "print(\"wrong method2:\", r)\n",
    "\n",
    "r=requests.post(url='http://127.0.0.1:8080/upload?path=client1/',data=data,headers=no_auth, files=files1)\n",
    "print(\"no auth:\", r)"
   ]
  },
  {
   "cell_type": "code",
   "execution_count": 40,
   "metadata": {
    "collapsed": false,
    "ExecuteTime": {
     "end_time": "2023-12-29T04:23:12.439639700Z",
     "start_time": "2023-12-29T04:23:12.407953900Z"
    }
   },
   "outputs": [
    {
     "name": "stdout",
     "output_type": "stream",
     "text": [
      "<Response [200]>\n"
     ]
    }
   ],
   "source": [
    "#3.2\n",
    "url1='http://127.0.0.1:8080/delete?path=client1/a.txt'\n",
    "url2='http://127.0.0.1:8080/delete?path=client1/a.zip'\n",
    "url3='http://127.0.0.1:8080/delete?path=client1/Hell.png'\n",
    "url4='http://127.0.0.1:8080/delete?path=client1/video.mp4'\n",
    "\n",
    "headers={\"Authorization\": \"Basic Y2xpZW50MToxMjM=\"}\n",
    "r=requests.post(url=url1, headers=headers)\n",
    "print(\"delete txt:\", r)\n",
    "\n",
    "r=requests.post(url=url2, headers=headers)\n",
    "print(\"delete zip:\", r)\n",
    "\n",
    "r=requests.post(url=url3, headers=headers)\n",
    "print(\"delete png:\", r)\n",
    "\n",
    "r=requests.post(url=url4, headers=headers)\n",
    "print(\"delete mp4:\", r)\n"
   ]
  },
  {
   "cell_type": "code",
   "execution_count": 74,
   "metadata": {
    "ExecuteTime": {
     "end_time": "2023-11-20T12:25:32.321265500Z",
     "start_time": "2023-11-20T12:25:30.273918600Z"
    },
    "collapsed": false
   },
   "outputs": [
    {
     "name": "stdout",
     "output_type": "stream",
     "text": [
      "c20a7336-85da-4604-9885-0e7a17d404e5\n",
      "<Response [200]>\n"
     ]
    }
   ],
   "source": [
    "#4\n",
    "url='http://127.0.0.1:8080/'\n",
    "\n",
    "headers={\"Authorization\": \"Basic Y2xpZW50MToxMjM=\"}\n",
    "r=requests.get(url=url, headers=headers)\n",
    "print(r.cookies.values()[0])\n",
    "headers={\"Cookie\":'session-id='+r.cookies.values()[0]}\n",
    "q=requests.get('http://localhost:8080/',headers=headers)\n",
    "print(q.cookies)\n",
    "print(q)\n",
    "\n",
    "headers={\"Authorization\": \"Basic Y2xpZW50MToxMjM=\"}\n",
    "r=requests.get(url=url, headers=headers)\n",
    "print(r.cookies.values()[0])\n",
    "\n",
    "r=requests.post(url='http://127.0.0.1:8080/upload?path=client2/',data=data,headers=headers, files=files1)\n",
    "print(\"forbidden:\", r)\n",
    "\n",
    "time.sleep(61)\n",
    "q=requests.get('http://localhost:8080/',headers=headers)\n",
    "print(q.cookies)\n",
    "print(\"timeout:\", q)\n"
   ]
  },
  {
   "cell_type": "code",
   "execution_count": 41,
   "metadata": {
    "collapsed": false,
    "ExecuteTime": {
     "end_time": "2023-12-29T04:23:17.446015500Z",
     "start_time": "2023-12-29T04:23:17.422963400Z"
    }
   },
   "outputs": [
    {
     "name": "stdout",
     "output_type": "stream",
     "text": [
      "<Response [400]>\n"
     ]
    }
   ],
   "source": [
    "#5\n",
    "headers={\"Authorization\": \"Basic Y2xpZW50MToxMjM=\"}\n",
    "r=requests.get(url='http://127.0.0.1:8080/client1/video.mp4?chunked=1', headers=headers)\n",
    "print(r)"
   ]
  },
  {
   "cell_type": "code",
   "execution_count": 76,
   "metadata": {
    "ExecuteTime": {
     "end_time": "2023-11-20T12:25:32.352124400Z",
     "start_time": "2023-11-20T12:25:32.338171Z"
    },
    "collapsed": false
   },
   "outputs": [
    {
     "name": "stdout",
     "output_type": "stream",
     "text": [
      "--THISISMYSELFDIFINEDBOUNDARY\n",
      "Content-type= text/plain\n",
      "Content-range= 0-1/11\n",
      "\n",
      "sa\n",
      "--THISISMYSELFDIFINEDBOUNDARY\n",
      "Content-type= text/plain\n",
      "Content-range= 1-2/11\n",
      "\n",
      "ad\n",
      "--THISISMYSELFDIFINEDBOUNDARY\n",
      "Content-type= text/plain\n",
      "Content-range= 2-3/11\n",
      "\n",
      "df\n",
      "--THISISMYSELFDIFINEDBOUNDARY--\n"
     ]
    }
   ],
   "source": [
    "#Breakpoint Transmission\n",
    "url='http://127.0.0.1:8080/client1/a.txt'\n",
    "\n",
    "data={}\n",
    "headers={\"Authorization\": \"Basic Y2xpZW50MToxMjM=\",\n",
    "         \"Range\": \"0-1,1-2,2-3\"}\n",
    "r=requests.get(url=url, data=data, headers=headers)\n",
    "print(r.content.decode())"
   ]
  }
 ],
 "metadata": {
  "kernelspec": {
   "display_name": "Python 3",
   "language": "python",
   "name": "python3"
  },
  "language_info": {
   "codemirror_mode": {
    "name": "ipython",
    "version": 3
   },
   "file_extension": ".py",
   "mimetype": "text/x-python",
   "name": "python",
   "nbconvert_exporter": "python",
   "pygments_lexer": "ipython3",
   "version": "3.10.12"
  }
 },
 "nbformat": 4,
 "nbformat_minor": 0
}
